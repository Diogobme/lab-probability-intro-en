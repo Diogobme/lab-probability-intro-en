{
 "cells": [
  {
   "cell_type": "markdown",
   "metadata": {},
   "source": [
    "# Probability"
   ]
  },
  {
   "cell_type": "markdown",
   "metadata": {},
   "source": [
    "## Challenge 1\n",
    "There is a box with 10 white balls, 12 red balls and 8 black balls. Calculate the probability of:\n",
    "* Taking a white ball out.\n",
    "* Taking a white ball on first extraction and a black ball out on second extraction without replacing the first one.\n",
    "* Taking a white ball on first extraction and a black ball out on second extraction replacing the first one.\n",
    "* Taking 3 balls and them being all different colours."
   ]
  },
  {
   "cell_type": "code",
   "execution_count": 2,
   "metadata": {},
   "outputs": [
    {
     "data": {
      "text/plain": [
       "(0.3333333333333333,\n",
       " 0.09195402298850575,\n",
       " 0.08888888888888888,\n",
       " 0.23645320197044334)"
      ]
     },
     "execution_count": 2,
     "metadata": {},
     "output_type": "execute_result"
    }
   ],
   "source": [
    "# YOUR CODE HERE\n",
    "from math import comb\n",
    "\n",
    "p_a = 10/30\n",
    "p_b = (10/30)*(8/29)\n",
    "p_c = (10/30)*(8/30)\n",
    "p_d = (10*12*8)/comb(30,3)\n",
    "p_a, p_b, p_c, p_d"
   ]
  },
  {
   "cell_type": "markdown",
   "metadata": {},
   "source": [
    "## Challenge 2\n",
    "\n",
    "You want to go on picnic on Saturday. You hate rain, and would know to plan your weekend. To help you make a decision, you gather the following data about rainy days:\n",
    "\n",
    "* 40% of all days are cloudy.\n",
    "* About 50% of cloudy days are rainy. \n",
    "* About 20% of non-cloudy days are rainy.\n",
    "\n",
    "What is the chance of rain during next Saturday?"
   ]
  },
  {
   "cell_type": "code",
   "execution_count": 5,
   "metadata": {},
   "outputs": [
    {
     "data": {
      "text/plain": [
       "0.32"
      ]
     },
     "execution_count": 5,
     "metadata": {},
     "output_type": "execute_result"
    }
   ],
   "source": [
    "# YOUR CODE HERE\n",
    "p_c = 0.4\n",
    "p_r_given_c = 0.5\n",
    "p_r_given_nc = 0.2\n",
    "p_r = p_r_given_c*p_c + p_r_given_nc*(1-p_c)\n",
    "p_r"
   ]
  },
  {
   "cell_type": "markdown",
   "metadata": {},
   "source": [
    "## Challenge 3\n",
    "\n",
    "A and B are events of a probability such that $P(A) = 0.3$, $P(B) = 0.6$ and $P(A \\cap B) = 0.1$\n",
    "\n",
    "Which of the following statements are true?  \n",
    "**HINT: draw a big Venn Diagram by your side**  \n",
    "* $P(\\overline{A}) = 0.7$\n",
    "* $P(A \\cup B) = 0.6$\n",
    "* $P(A \\cap \\overline{B}) = 0.2$\n",
    "* $P(A \\cup \\overline{A}) = 1$  \n",
    "* $P(A \\cap (B \\cup \\overline{B})) = 0.4$\n",
    "* $P(\\overline{A} \\cap \\overline{B}) = 0.3$\n",
    "* $P(\\overline{A \\cap B}) = 0.9$"
   ]
  },
  {
   "cell_type": "code",
   "execution_count": 6,
   "metadata": {},
   "outputs": [
    {
     "data": {
      "text/plain": [
       "{'P(not A)=0.7': True,\n",
       " 'P(A∪B)=0.6': False,\n",
       " 'P(A∩not B)=0.2': False,\n",
       " 'P(A∪not A)=1': True,\n",
       " 'P(A∩(B∪not B))=0.4': False,\n",
       " 'P(not A ∩ not B)=0.3': False,\n",
       " 'P(not (A∩B))=0.9': True}"
      ]
     },
     "execution_count": 6,
     "metadata": {},
     "output_type": "execute_result"
    }
   ],
   "source": [
    "# YOUR CODE HERE\n",
    "pA, pB, pAandB = 0.3, 0.6, 0.1\n",
    "results = {\n",
    "    \"P(not A)=0.7\": (1-pA)==0.7,\n",
    "    \"P(A∪B)=0.6\": (pA+pB-pAandB)==0.6,\n",
    "    \"P(A∩not B)=0.2\": (pA - pAandB)==0.2,\n",
    "    \"P(A∪not A)=1\": True,\n",
    "    \"P(A∩(B∪not B))=0.4\": pA==0.4,\n",
    "    \"P(not A ∩ not B)=0.3\": (1-(pA+pB-pAandB))==0.3,\n",
    "    \"P(not (A∩B))=0.9\": (1-pAandB)==0.9\n",
    "}\n",
    "results\n"
   ]
  },
  {
   "cell_type": "markdown",
   "metadata": {},
   "source": [
    "## Challenge 4\n",
    "\n",
    " * If someone flies to China, the probability of getting Covid is 1%  \n",
    " * If someone flies to Italy, the probability of getting Covid is 20%  \n",
    "\n",
    "I roll 1 dice with numbers 1, 2, 3, 4, 5, 6:  \n",
    " * If 1: I fly to Italy\n",
    " * If not 1: I fly to China\n",
    "\n",
    "During my trip, I got Covid. What is the probability that I flew to China?"
   ]
  },
  {
   "cell_type": "code",
   "execution_count": 7,
   "metadata": {},
   "outputs": [
    {
     "data": {
      "text/plain": [
       "0.2"
      ]
     },
     "execution_count": 7,
     "metadata": {},
     "output_type": "execute_result"
    }
   ],
   "source": [
    "# YOUR CODE HERE\n",
    "pI, pC = 1/6, 5/6\n",
    "p_cov_I, p_cov_C = 0.20, 0.01\n",
    "num = p_cov_C*pC\n",
    "den = p_cov_C*pC + p_cov_I*pI\n",
    "post_China_given_cov = num/den\n",
    "post_China_given_cov\n"
   ]
  },
  {
   "cell_type": "code",
   "execution_count": null,
   "metadata": {},
   "outputs": [],
   "source": []
  },
  {
   "cell_type": "markdown",
   "metadata": {},
   "source": [
    "## BONUS\n",
    "\n",
    "You roll 2 dice. What is the probability that the sum of the numbers is 7? And 8? And 9? Then simulate 10000 times and draw a countplot."
   ]
  },
  {
   "cell_type": "markdown",
   "metadata": {},
   "source": [
    "your explanation here"
   ]
  },
  {
   "cell_type": "code",
   "execution_count": 9,
   "metadata": {},
   "outputs": [
    {
     "data": {
      "text/plain": [
       "((0.16666666666666666, 0.1388888888888889, 0.1111111111111111),\n",
       " (0.167, 0.1389, 0.112))"
      ]
     },
     "execution_count": 9,
     "metadata": {},
     "output_type": "execute_result"
    }
   ],
   "source": [
    "# YOUR CODE HERE\n",
    "# BONUS: probabilidades teóricas e simulação rápida (contagem)\n",
    "import matplotlib.pyplot as plt\n",
    "from collections import Counter\n",
    "import random\n",
    "\n",
    "# Teóricas\n",
    "p7, p8, p9 = 6/36, 5/36, 4/36\n",
    "\n",
    "# Simulação\n",
    "N = 10_000\n",
    "sums = [random.randint(1,6)+random.randint(1,6) for _ in range(N)]\n",
    "cnt = Counter(sums)\n",
    "phat7, phat8, phat9 = cnt[7]/N, cnt[8]/N, cnt[9]/N\n",
    "(p7, p8, p9), (phat7, phat8, phat9)\n"
   ]
  },
  {
   "cell_type": "code",
   "execution_count": 10,
   "metadata": {},
   "outputs": [
    {
     "data": {
      "image/png": "[encoded data removed]",
      "text/plain": [
       "<Figure size 576x288 with 1 Axes>"
      ]
     },
     "metadata": {
      "needs_background": "light"
     },
     "output_type": "display_data"
    }
   ],
   "source": [
    "# Simulação (pode reaproveitar 'somas' se já tiver)\n",
    "N = 10_000\n",
    "somas = [random.randint(1,6)+random.randint(1,6) for _ in range(N)]\n",
    "cont = Counter(somas)\n",
    "\n",
    "# Preparar dados ordenados 2..12\n",
    "xs = list(range(2, 13))\n",
    "ys = [cont.get(x, 0) for x in xs]\n",
    "\n",
    "plt.figure(figsize=(8,4))\n",
    "plt.bar(xs, ys)                 # gráfico de barras das contagens\n",
    "plt.title(\"Contagem das Somas (2 dados, 10.000 lançamentos)\")\n",
    "plt.xlabel(\"Soma (2 dados)\")\n",
    "plt.ylabel(\"Contagem\")\n",
    "plt.xticks(xs)\n",
    "plt.show()"
   ]
  }
 ],
 "metadata": {
  "kernelspec": {
   "display_name": "base",
   "language": "python",
   "name": "python3"
  },
  "language_info": {
   "codemirror_mode": {
    "name": "ipython",
    "version": 3
   },
   "file_extension": ".py",
   "mimetype": "text/x-python",
   "name": "python",
   "nbconvert_exporter": "python",
   "pygments_lexer": "ipython3",
   "version": "3.9.7"
  },
  "toc": {
   "base_numbering": 1,
   "nav_menu": {},
   "number_sections": false,
   "sideBar": true,
   "skip_h1_title": false,
   "title_cell": "Table of Contents",
   "title_sidebar": "Contents",
   "toc_cell": false,
   "toc_position": {
    "height": "calc(100% - 180px)",
    "left": "10px",
    "top": "150px",
    "width": "296.475px"
   },
   "toc_section_display": true,
   "toc_window_display": false
  },
  "varInspector": {
   "cols": {
    "lenName": 16,
    "lenType": 16,
    "lenVar": 40
   },
   "kernels_config": {
    "python": {
     "delete_cmd_postfix": "",
     "delete_cmd_prefix": "del ",
     "library": "var_list.py",
     "varRefreshCmd": "print(var_dic_list())"
    },
    "r": {
     "delete_cmd_postfix": ") ",
     "delete_cmd_prefix": "rm(",
     "library": "var_list.r",
     "varRefreshCmd": "cat(var_dic_list()) "
    }
   },
   "types_to_exclude": [
    "module",
    "function",
    "builtin_function_or_method",
    "instance",
    "_Feature"
   ],
   "window_display": false
  }
 },
 "nbformat": 4,
 "nbformat_minor": 2
}
